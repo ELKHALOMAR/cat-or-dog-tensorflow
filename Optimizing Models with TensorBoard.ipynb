{
 "cells": [
  {
   "cell_type": "code",
   "execution_count": 1,
   "metadata": {},
   "outputs": [],
   "source": [
    "import tensorflow as tf\n",
    "from tensorflow.keras.models import Sequential\n",
    "from tensorflow.keras.layers import Dense, Dropout, Activation, Flatten\n",
    "from tensorflow.keras.layers import Conv2D, MaxPooling2D\n",
    "\n",
    "from tensorflow.keras.callbacks import TensorBoard\n",
    "import pickle\n",
    "import time\n",
    "\n"
   ]
  },
  {
   "cell_type": "code",
   "execution_count": 2,
   "metadata": {},
   "outputs": [],
   "source": [
    "gpu_options = tf.GPUOptions(per_process_gpu_memory_fraction=0.4)\n",
    "sess = tf.Session(config=tf.ConfigProto(gpu_options = gpu_options))"
   ]
  },
  {
   "cell_type": "code",
   "execution_count": 3,
   "metadata": {},
   "outputs": [],
   "source": [
    "pickle_in = open(\"X.pickle\",\"rb\")\n",
    "X = pickle.load(pickle_in)\n",
    "\n",
    "pickle_in = open(\"y.pickle\",\"rb\")\n",
    "y = pickle.load(pickle_in)\n",
    "\n",
    "X = X/255.0\n",
    "\n"
   ]
  },
  {
   "cell_type": "code",
   "execution_count": 4,
   "metadata": {},
   "outputs": [],
   "source": [
    "dense_layers = [0,1,2]\n",
    "layer_sizes = [50, 100, 128]\n",
    "conv_layers = [5,4,3]\n",
    "\n",
    "# the best model params that i found so far (0, 50, 5)\n"
   ]
  },
  {
   "cell_type": "code",
   "execution_count": 5,
   "metadata": {},
   "outputs": [
    {
     "name": "stdout",
     "output_type": "stream",
     "text": [
      "5-conv-50-nodes-0-dense-1563799070\n",
      "WARNING:tensorflow:From D:\\progfile\\envs\\tf\\lib\\site-packages\\tensorflow\\python\\ops\\resource_variable_ops.py:435: colocate_with (from tensorflow.python.framework.ops) is deprecated and will be removed in a future version.\n",
      "Instructions for updating:\n",
      "Colocations handled automatically by placer.\n",
      "Train on 17462 samples, validate on 7484 samples\n",
      "WARNING:tensorflow:From D:\\progfile\\envs\\tf\\lib\\site-packages\\tensorflow\\python\\ops\\math_ops.py:3066: to_int32 (from tensorflow.python.ops.math_ops) is deprecated and will be removed in a future version.\n",
      "Instructions for updating:\n",
      "Use tf.cast instead.\n",
      "Epoch 1/9\n",
      "17462/17462 [==============================] - 44s 3ms/sample - loss: 0.6774 - acc: 0.5575 - val_loss: 0.6620 - val_acc: 0.5925\n",
      "Epoch 2/9\n",
      "17462/17462 [==============================] - 22s 1ms/sample - loss: 0.5742 - acc: 0.6976 - val_loss: 0.5016 - val_acc: 0.7682\n",
      "Epoch 3/9\n",
      "17462/17462 [==============================] - 21s 1ms/sample - loss: 0.4715 - acc: 0.7773 - val_loss: 0.4267 - val_acc: 0.8036\n",
      "Epoch 4/9\n",
      "17462/17462 [==============================] - 21s 1ms/sample - loss: 0.4000 - acc: 0.8153 - val_loss: 0.3820 - val_acc: 0.8307\n",
      "Epoch 5/9\n",
      "17462/17462 [==============================] - 21s 1ms/sample - loss: 0.3417 - acc: 0.8484 - val_loss: 0.3557 - val_acc: 0.8399\n",
      "Epoch 6/9\n",
      "17462/17462 [==============================] - 21s 1ms/sample - loss: 0.2996 - acc: 0.8689 - val_loss: 0.3484 - val_acc: 0.8458\n",
      "Epoch 7/9\n",
      "17462/17462 [==============================] - 20s 1ms/sample - loss: 0.2618 - acc: 0.8877 - val_loss: 0.3342 - val_acc: 0.8557\n",
      "Epoch 8/9\n",
      "17462/17462 [==============================] - 20s 1ms/sample - loss: 0.2332 - acc: 0.9014 - val_loss: 0.3326 - val_acc: 0.8625\n",
      "Epoch 9/9\n",
      "17462/17462 [==============================] - 20s 1ms/sample - loss: 0.1959 - acc: 0.9161 - val_loss: 0.3388 - val_acc: 0.8646\n"
     ]
    }
   ],
   "source": [
    "for dense_layer in dense_layers:\n",
    "    for layer_size in layer_sizes:\n",
    "        for conv_layer in conv_layers:\n",
    "            NAME = \"{}-conv-{}-nodes-{}-dense-{}\".format(conv_layer, layer_size, dense_layer, int(time.time()))\n",
    "            print(NAME)\n",
    "\n",
    "            model = Sequential()\n",
    "\n",
    "            model.add(Conv2D(layer_size, (3, 3), input_shape=X.shape[1:]))\n",
    "            model.add(Activation('relu'))\n",
    "            model.add(MaxPooling2D(pool_size=(2, 2)))\n",
    "\n",
    "            for l in range(conv_layer-1):\n",
    "                model.add(Conv2D(layer_size, (3, 3)))\n",
    "                model.add(Activation('relu'))\n",
    "                model.add(MaxPooling2D(pool_size=(2, 2)))\n",
    "\n",
    "            model.add(Flatten())\n",
    "\n",
    "            for _ in range(dense_layer):\n",
    "                model.add(Dense(layer_size))\n",
    "                model.add(Activation('relu'))\n",
    "\n",
    "            model.add(Dense(1))\n",
    "            model.add(Activation('sigmoid'))\n",
    "\n",
    "            tensorboard = TensorBoard(log_dir=\"logs/{}\".format(NAME))\n",
    "\n",
    "            model.compile(loss='binary_crossentropy',\n",
    "                          optimizer='adam',\n",
    "                          metrics=['accuracy'],\n",
    "                          )\n",
    "\n",
    "            model.fit(X, y,\n",
    "                      batch_size=32,\n",
    "                      epochs=9,    # more than 9 epochs will cause overfitting in this case\n",
    "                      validation_split=0.3,\n",
    "                      callbacks=[tensorboard])"
   ]
  },
  {
   "cell_type": "markdown",
   "metadata": {},
   "source": [
    "## to access tensorboard ==> at cmd type => tensorboard --logdir==training:logs/ --host=127.0.0.1"
   ]
  },
  {
   "cell_type": "markdown",
   "metadata": {},
   "source": []
  },
  {
   "cell_type": "code",
   "execution_count": 6,
   "metadata": {},
   "outputs": [],
   "source": [
    "model.save('503')"
   ]
  },
  {
   "cell_type": "code",
   "execution_count": 8,
   "metadata": {},
   "outputs": [],
   "source": [
    "mdl = tf.keras.models.load_model('50x3')\n"
   ]
  },
  {
   "cell_type": "code",
   "execution_count": null,
   "metadata": {},
   "outputs": [],
   "source": []
  }
 ],
 "metadata": {
  "kernelspec": {
   "display_name": "Python 3",
   "language": "python",
   "name": "python3"
  },
  "language_info": {
   "codemirror_mode": {
    "name": "ipython",
    "version": 3
   },
   "file_extension": ".py",
   "mimetype": "text/x-python",
   "name": "python",
   "nbconvert_exporter": "python",
   "pygments_lexer": "ipython3",
   "version": "3.7.3"
  }
 },
 "nbformat": 4,
 "nbformat_minor": 2
}
